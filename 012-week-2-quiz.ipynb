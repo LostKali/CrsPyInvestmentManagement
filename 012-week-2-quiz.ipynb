{
 "cells": [
  {
   "cell_type": "code",
   "execution_count": 1,
   "id": "f52e1b44",
   "metadata": {},
   "outputs": [
    {
     "name": "stderr",
     "output_type": "stream",
     "text": [
      "/home/jovyan/work/edhec_risk_kit.py:174: UserWarning: Could not infer format, so each element will be parsed individually, falling back to `dateutil`. To ensure parsing is consistent and as-expected, please specify a format.\n",
      "  ind = pd.read_csv(\"data/ind30_m_vw_rets.csv\", header=0, index_col=0, parse_dates=True) / 100\n"
     ]
    }
   ],
   "source": [
    "%load_ext autoreload\n",
    "%autoreload 2\n",
    "%matplotlib inline\n",
    "import edhec_risk_kit as erk\n",
    "import numpy as np\n",
    "import pandas as pd\n",
    "\n",
    "ind = erk.get_ind_returns()\n",
    "er = erk.annualize_rets(ind[\"2000\":], 12)\n",
    "cov = ind[\"2000\":].cov()"
   ]
  },
  {
   "cell_type": "code",
   "execution_count": 2,
   "id": "2e702758",
   "metadata": {},
   "outputs": [
    {
     "data": {
      "text/plain": [
       "Food     0.068226\n",
       "Beer     0.106206\n",
       "Smoke    0.084150\n",
       "Games    0.135309\n",
       "Books    0.108740\n",
       "Hshld    0.086223\n",
       "Clths    0.090707\n",
       "Hlth     0.080671\n",
       "Chems    0.092979\n",
       "Txtls    0.116688\n",
       "Cnstr    0.103798\n",
       "Steel    0.129697\n",
       "FabPr    0.108122\n",
       "ElcEq    0.113157\n",
       "Autos    0.119941\n",
       "Carry    0.113116\n",
       "Mines    0.110974\n",
       "Coal     0.167033\n",
       "Oil      0.090237\n",
       "Util     0.081711\n",
       "Telcm    0.067026\n",
       "Servs    0.124616\n",
       "BusEq    0.099779\n",
       "Paper    0.086197\n",
       "Trans    0.107081\n",
       "Whlsl    0.112078\n",
       "Rtail    0.087791\n",
       "Meals    0.095716\n",
       "Fin      0.101333\n",
       "Other    0.103290\n",
       "dtype: float64"
      ]
     },
     "execution_count": 2,
     "metadata": {},
     "output_type": "execute_result"
    }
   ],
   "source": [
    "erk.var_gaussian(ind)"
   ]
  },
  {
   "cell_type": "code",
   "execution_count": null,
   "id": "1368c1fa",
   "metadata": {},
   "outputs": [],
   "source": []
  }
 ],
 "metadata": {
  "kernelspec": {
   "display_name": "Python 3 (ipykernel)",
   "language": "python",
   "name": "python3"
  },
  "language_info": {
   "codemirror_mode": {
    "name": "ipython",
    "version": 3
   },
   "file_extension": ".py",
   "mimetype": "text/x-python",
   "name": "python",
   "nbconvert_exporter": "python",
   "pygments_lexer": "ipython3",
   "version": "3.11.4"
  }
 },
 "nbformat": 4,
 "nbformat_minor": 5
}
